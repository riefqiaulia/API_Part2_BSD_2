{
  "cells": [
    {
      "cell_type": "markdown",
      "metadata": {
        "id": "_sYB7fYd3KT5"
      },
      "source": [
        "# Fetching Data"
      ]
    },
    {
      "cell_type": "markdown",
      "metadata": {
        "id": "9vfqh3dw-Fq9"
      },
      "source": [
        "## Using `requests`"
      ]
    },
    {
      "cell_type": "markdown",
      "metadata": {
        "id": "KhUsETxwVi1W"
      },
      "source": [
        "`requests` used for making HTTP requests to interact with APIs and web services. It provides a simple and user-friendly interface for sending various types of HTTP requests, such as GET, POST, PUT, DELETE, etc., and handling responses. The `requests` library is widely used for web scraping, API integration, and making HTTP calls in general.\n",
        "\n",
        "Next, we will send HTTP requests, specifically `GET` to access an API that stores weather and earthquake data in Indonesia."
      ]
    },
    {
      "cell_type": "code",
      "execution_count": 1,
      "metadata": {},
      "outputs": [
        {
          "name": "stdout",
          "output_type": "stream",
          "text": [
            "Requirement already satisfied: fastapi in c:\\users\\riefqi aulia\\anaconda3\\lib\\site-packages (0.103.2)\n",
            "Requirement already satisfied: uvicorn[standard] in c:\\users\\riefqi aulia\\anaconda3\\lib\\site-packages (0.23.2)\n",
            "Requirement already satisfied: anyio<4.0.0,>=3.7.1 in c:\\users\\riefqi aulia\\anaconda3\\lib\\site-packages (from fastapi) (3.7.1)\n",
            "Requirement already satisfied: pydantic!=1.8,!=1.8.1,!=2.0.0,!=2.0.1,!=2.1.0,<3.0.0,>=1.7.4 in c:\\users\\riefqi aulia\\anaconda3\\lib\\site-packages (from fastapi) (2.4.2)\n",
            "Requirement already satisfied: starlette<0.28.0,>=0.27.0 in c:\\users\\riefqi aulia\\anaconda3\\lib\\site-packages (from fastapi) (0.27.0)\n",
            "Requirement already satisfied: typing-extensions>=4.5.0 in c:\\users\\riefqi aulia\\anaconda3\\lib\\site-packages (from fastapi) (4.7.1)\n",
            "Requirement already satisfied: click>=7.0 in c:\\users\\riefqi aulia\\anaconda3\\lib\\site-packages (from uvicorn[standard]) (8.0.4)\n",
            "Requirement already satisfied: h11>=0.8 in c:\\users\\riefqi aulia\\anaconda3\\lib\\site-packages (from uvicorn[standard]) (0.14.0)\n",
            "Requirement already satisfied: colorama>=0.4 in c:\\users\\riefqi aulia\\anaconda3\\lib\\site-packages (from uvicorn[standard]) (0.4.6)\n",
            "Requirement already satisfied: httptools>=0.5.0 in c:\\users\\riefqi aulia\\anaconda3\\lib\\site-packages (from uvicorn[standard]) (0.6.0)\n",
            "Requirement already satisfied: python-dotenv>=0.13 in c:\\users\\riefqi aulia\\anaconda3\\lib\\site-packages (from uvicorn[standard]) (1.0.0)\n",
            "Requirement already satisfied: pyyaml>=5.1 in c:\\users\\riefqi aulia\\anaconda3\\lib\\site-packages (from uvicorn[standard]) (6.0)\n",
            "Requirement already satisfied: watchfiles>=0.13 in c:\\users\\riefqi aulia\\anaconda3\\lib\\site-packages (from uvicorn[standard]) (0.20.0)\n",
            "Requirement already satisfied: websockets>=10.4 in c:\\users\\riefqi aulia\\anaconda3\\lib\\site-packages (from uvicorn[standard]) (11.0.3)\n",
            "Requirement already satisfied: idna>=2.8 in c:\\users\\riefqi aulia\\anaconda3\\lib\\site-packages (from anyio<4.0.0,>=3.7.1->fastapi) (3.4)\n",
            "Requirement already satisfied: sniffio>=1.1 in c:\\users\\riefqi aulia\\anaconda3\\lib\\site-packages (from anyio<4.0.0,>=3.7.1->fastapi) (1.2.0)\n",
            "Requirement already satisfied: annotated-types>=0.4.0 in c:\\users\\riefqi aulia\\anaconda3\\lib\\site-packages (from pydantic!=1.8,!=1.8.1,!=2.0.0,!=2.0.1,!=2.1.0,<3.0.0,>=1.7.4->fastapi) (0.5.0)\n",
            "Requirement already satisfied: pydantic-core==2.10.1 in c:\\users\\riefqi aulia\\anaconda3\\lib\\site-packages (from pydantic!=1.8,!=1.8.1,!=2.0.0,!=2.0.1,!=2.1.0,<3.0.0,>=1.7.4->fastapi) (2.10.1)\n"
          ]
        }
      ],
      "source": [
        "!pip install fastapi uvicorn[standard]"
      ]
    },
    {
      "cell_type": "code",
      "execution_count": 1,
      "metadata": {
        "id": "R-WhXtCowg6S"
      },
      "outputs": [],
      "source": [
        "import requests"
      ]
    },
    {
      "cell_type": "markdown",
      "metadata": {
        "id": "bgZCj2zeWJiX"
      },
      "source": [
        "To access the API, we just call the `.get` method and input the API's url. The output will be an information of request status. If we successfully access the API, it will give a 200 response."
      ]
    },
    {
      "cell_type": "code",
      "execution_count": 2,
      "metadata": {
        "colab": {
          "base_uri": "https://localhost:8080/"
        },
        "id": "fqo_65Dn69YF",
        "outputId": "fd60c6aa-e307-4a7b-fc2e-72c7ba9fcd16"
      },
      "outputs": [
        {
          "data": {
            "text/plain": [
              "<Response [200]>"
            ]
          },
          "execution_count": 2,
          "metadata": {},
          "output_type": "execute_result"
        }
      ],
      "source": [
        "response = requests.get(\"https://cuaca-gempa-rest-api.vercel.app\")\n",
        "response"
      ]
    },
    {
      "cell_type": "markdown",
      "metadata": {
        "id": "77-G9fAnWby2"
      },
      "source": [
        "We can specifically access the response status code by `.status_code` attribute."
      ]
    },
    {
      "cell_type": "code",
      "execution_count": 3,
      "metadata": {
        "colab": {
          "base_uri": "https://localhost:8080/"
        },
        "id": "Ry8Opa9jFMR5",
        "outputId": "b260f9ab-3e9f-4ae9-f7df-3392c550ec27"
      },
      "outputs": [
        {
          "data": {
            "text/plain": [
              "['__attrs__',\n",
              " '__bool__',\n",
              " '__class__',\n",
              " '__delattr__',\n",
              " '__dict__',\n",
              " '__dir__',\n",
              " '__doc__',\n",
              " '__enter__',\n",
              " '__eq__',\n",
              " '__exit__',\n",
              " '__format__',\n",
              " '__ge__',\n",
              " '__getattribute__',\n",
              " '__getstate__',\n",
              " '__gt__',\n",
              " '__hash__',\n",
              " '__init__',\n",
              " '__init_subclass__',\n",
              " '__iter__',\n",
              " '__le__',\n",
              " '__lt__',\n",
              " '__module__',\n",
              " '__ne__',\n",
              " '__new__',\n",
              " '__nonzero__',\n",
              " '__reduce__',\n",
              " '__reduce_ex__',\n",
              " '__repr__',\n",
              " '__setattr__',\n",
              " '__setstate__',\n",
              " '__sizeof__',\n",
              " '__str__',\n",
              " '__subclasshook__',\n",
              " '__weakref__',\n",
              " '_content',\n",
              " '_content_consumed',\n",
              " '_next',\n",
              " 'apparent_encoding',\n",
              " 'close',\n",
              " 'connection',\n",
              " 'content',\n",
              " 'cookies',\n",
              " 'elapsed',\n",
              " 'encoding',\n",
              " 'headers',\n",
              " 'history',\n",
              " 'is_permanent_redirect',\n",
              " 'is_redirect',\n",
              " 'iter_content',\n",
              " 'iter_lines',\n",
              " 'json',\n",
              " 'links',\n",
              " 'next',\n",
              " 'ok',\n",
              " 'raise_for_status',\n",
              " 'raw',\n",
              " 'reason',\n",
              " 'request',\n",
              " 'status_code',\n",
              " 'text',\n",
              " 'url']"
            ]
          },
          "execution_count": 3,
          "metadata": {},
          "output_type": "execute_result"
        }
      ],
      "source": [
        "dir(response)"
      ]
    },
    {
      "cell_type": "code",
      "execution_count": 4,
      "metadata": {
        "colab": {
          "base_uri": "https://localhost:8080/"
        },
        "id": "hcp5QOrq-Rm5",
        "outputId": "e5a3e7e2-588f-44a0-a1b5-26140c3c8471"
      },
      "outputs": [
        {
          "data": {
            "text/plain": [
              "200"
            ]
          },
          "execution_count": 4,
          "metadata": {},
          "output_type": "execute_result"
        }
      ],
      "source": [
        "response.status_code"
      ]
    },
    {
      "cell_type": "markdown",
      "metadata": {
        "id": "NvQZEyPZWjOH"
      },
      "source": [
        "All data or information that stored in API, will be in `json` format. So, by default, we can extract the json from the API using `.json()` method."
      ]
    },
    {
      "cell_type": "code",
      "execution_count": 5,
      "metadata": {
        "colab": {
          "base_uri": "https://localhost:8080/"
        },
        "id": "4K5TVULZ7GjS",
        "outputId": "9dc0b52a-1db4-414a-e92c-aae83a59a0e0"
      },
      "outputs": [
        {
          "data": {
            "text/plain": [
              "{'maintainer': 'Renova Muhamad Reza',\n",
              " 'source': 'https://github.com/renomureza/cuaca-gempa-rest-api',\n",
              " 'endpoint': {'quake': 'https://cuaca-gempa-rest-api.vercel.app/quake',\n",
              "  'weather': {'province': {'example': 'https://cuaca-gempa-rest-api.vercel.app/weather/jawa-barat'},\n",
              "   'city': {'example': 'https://cuaca-gempa-rest-api.vercel.app/weather/jawa-barat/bandung'}}}}"
            ]
          },
          "execution_count": 5,
          "metadata": {},
          "output_type": "execute_result"
        }
      ],
      "source": [
        "response.json()"
      ]
    },
    {
      "cell_type": "markdown",
      "metadata": {
        "id": "v8cQvlBtW5Jx"
      },
      "source": [
        "Another example. We access the latest earthquake event:"
      ]
    },
    {
      "cell_type": "code",
      "execution_count": 6,
      "metadata": {
        "colab": {
          "base_uri": "https://localhost:8080/"
        },
        "id": "xZAVI6DXE4f9",
        "outputId": "36341b22-587f-498e-9e73-dec6dbeb71f7"
      },
      "outputs": [
        {
          "name": "stdout",
          "output_type": "stream",
          "text": [
            "200\n"
          ]
        },
        {
          "data": {
            "text/plain": [
              "{'success': True,\n",
              " 'message': None,\n",
              " 'data': {'tanggal': '27 Nov 2023',\n",
              "  'jam': '15:19:01 WIB',\n",
              "  'datetime': '2023-11-27T08:19:01+00:00',\n",
              "  'coordinates': '-8.86,112.81',\n",
              "  'lintang': '8.86 LS',\n",
              "  'bujur': '112.81 BT',\n",
              "  'magnitude': '4.7',\n",
              "  'kedalaman': '109 km',\n",
              "  'wilayah': 'Pusat gempa berada di laut 84 km Tenggara Kab. Malang',\n",
              "  'potensi': 'Gempa ini dirasakan untuk diteruskan pada masyarakat',\n",
              "  'dirasakan': 'II Trenggalek, II Gunung Kidul, II Karangkates, II Jember, II Banyuwangi, II Blitar',\n",
              "  'shakemap': 'https://data.bmkg.go.id/DataMKG/TEWS/20231127151901.mmi.jpg'}}"
            ]
          },
          "execution_count": 6,
          "metadata": {},
          "output_type": "execute_result"
        }
      ],
      "source": [
        "url = 'https://cuaca-gempa-rest-api.vercel.app/quake'\n",
        "response = requests.get(url)\n",
        "\n",
        "print(response.status_code)\n",
        "response.json()"
      ]
    },
    {
      "cell_type": "markdown",
      "metadata": {
        "id": "wt_LsObjXAkg"
      },
      "source": [
        "We can interact with data in the API by set the input parameter. The input parameters will be unique for each API and you only know by the documentation.\n",
        "\n",
        "Example below, we want to know the currency rate of USD to IDR."
      ]
    },
    {
      "cell_type": "code",
      "execution_count": 7,
      "metadata": {
        "colab": {
          "base_uri": "https://localhost:8080/"
        },
        "id": "x7OMRseLELip",
        "outputId": "b59e616e-4643-4076-d811-e10d6f1059d2"
      },
      "outputs": [
        {
          "name": "stdout",
          "output_type": "stream",
          "text": [
            "{'success': False, 'error': {'code': 101, 'type': 'missing_access_key', 'info': 'You have not supplied an API Access Key. [Required format: access_key=YOUR_ACCESS_KEY]'}}\n"
          ]
        }
      ],
      "source": [
        "url = 'https://api.exchangerate.host/convert?from=USD&to=IDR'\n",
        "response = requests.get(url)\n",
        "data = response.json()\n",
        "\n",
        "print(data)"
      ]
    },
    {
      "cell_type": "code",
      "execution_count": 8,
      "metadata": {
        "colab": {
          "base_uri": "https://localhost:8080/"
        },
        "id": "_fR3JkEXulSe",
        "outputId": "9bbea03f-c9db-4a26-bbd1-c96e6ac15e51"
      },
      "outputs": [
        {
          "name": "stdout",
          "output_type": "stream",
          "text": [
            "{'error': {'code': 101,\n",
            "           'info': 'You have not supplied an API Access Key. [Required format: '\n",
            "                   'access_key=YOUR_ACCESS_KEY]',\n",
            "           'type': 'missing_access_key'},\n",
            " 'success': False}\n"
          ]
        }
      ],
      "source": [
        "# [UPDATE] To display the results vertically rather than horizontally\n",
        "\n",
        "from pprint import pprint\n",
        "pprint(data)"
      ]
    },
    {
      "cell_type": "markdown",
      "metadata": {
        "id": "fMb6jC1z-Ivx"
      },
      "source": [
        "## Read Data from API with Pandas\n",
        "\n",
        "Pandas is a powerful library to read and manipulation data. Pandas can read json that stored in API (online) or a json file, and then stored to a Data Frame."
      ]
    },
    {
      "cell_type": "code",
      "execution_count": 9,
      "metadata": {
        "colab": {
          "base_uri": "https://localhost:8080/"
        },
        "id": "4mGtWV5EFIs7",
        "outputId": "9ad62bbf-94f8-4ec2-b7fe-6cd68fc5c058"
      },
      "outputs": [
        {
          "name": "stdout",
          "output_type": "stream",
          "text": [
            "200\n"
          ]
        }
      ],
      "source": [
        "import pandas as pd\n",
        "import json\n",
        "\n",
        "url = 'https://data.jabarprov.go.id/api-backend/bigdata/diskanlut/od_15086_angka_konsumsi_ikan_berdasarkan_tahun'\n",
        "response = requests.get(url)\n",
        "\n",
        "print(response.status_code)\n",
        "json = response.json()"
      ]
    },
    {
      "cell_type": "markdown",
      "metadata": {
        "id": "KL2JJgkwXpLc"
      },
      "source": [
        "As you know that json is the same as Python dictionary so we can access the keys and the values. For example, we access the keys to give us an overview about the data location."
      ]
    },
    {
      "cell_type": "code",
      "execution_count": 10,
      "metadata": {
        "colab": {
          "base_uri": "https://localhost:8080/"
        },
        "id": "3-aQnEnYMq9y",
        "outputId": "51ff929f-1d71-4322-cc33-105d2f342bc7"
      },
      "outputs": [
        {
          "data": {
            "text/plain": [
              "dict_keys(['message', 'error', 'data', 'metadata', 'meta', 'metadata_filter'])"
            ]
          },
          "execution_count": 10,
          "metadata": {},
          "output_type": "execute_result"
        }
      ],
      "source": [
        "json.keys()"
      ]
    },
    {
      "cell_type": "markdown",
      "metadata": {
        "id": "G3muKo_3X40w"
      },
      "source": [
        "It seems that the data are stored in `data` key. To make sure our assumption, we need to transform the json into data frame using `pd.json_normalize` or `pd.read_json`"
      ]
    },
    {
      "cell_type": "code",
      "execution_count": 11,
      "metadata": {
        "colab": {
          "base_uri": "https://localhost:8080/"
        },
        "id": "EnIG5QqEQU8-",
        "outputId": "299a05f5-6f38-4299-fa57-033c8eee34a5"
      },
      "outputs": [
        {
          "data": {
            "text/plain": [
              "[{'id': 1,\n",
              "  'kode_provinsi': 32,\n",
              "  'nama_provinsi': 'JAWA BARAT',\n",
              "  'target_konsumsi_ikan': 23.89,\n",
              "  'realisasi_konsumsi_ikan': 24.57,\n",
              "  'satuan': 'KILOGRAM PER KAPITA PER TAHUN',\n",
              "  'tahun': 2014},\n",
              " {'id': 2,\n",
              "  'kode_provinsi': 32,\n",
              "  'nama_provinsi': 'JAWA BARAT',\n",
              "  'target_konsumsi_ikan': 25.41,\n",
              "  'realisasi_konsumsi_ikan': 25.88,\n",
              "  'satuan': 'KILOGRAM PER KAPITA PER TAHUN',\n",
              "  'tahun': 2015},\n",
              " {'id': 3,\n",
              "  'kode_provinsi': 32,\n",
              "  'nama_provinsi': 'JAWA BARAT',\n",
              "  'target_konsumsi_ikan': 27.35,\n",
              "  'realisasi_konsumsi_ikan': 27.7,\n",
              "  'satuan': 'KILOGRAM PER KAPITA PER TAHUN',\n",
              "  'tahun': 2016},\n",
              " {'id': 4,\n",
              "  'kode_provinsi': 32,\n",
              "  'nama_provinsi': 'JAWA BARAT',\n",
              "  'target_konsumsi_ikan': 28.53,\n",
              "  'realisasi_konsumsi_ikan': 28.6,\n",
              "  'satuan': 'KILOGRAM PER KAPITA PER TAHUN',\n",
              "  'tahun': 2017},\n",
              " {'id': 5,\n",
              "  'kode_provinsi': 32,\n",
              "  'nama_provinsi': 'JAWA BARAT',\n",
              "  'target_konsumsi_ikan': 29.46,\n",
              "  'realisasi_konsumsi_ikan': 29.64,\n",
              "  'satuan': 'KILOGRAM PER KAPITA PER TAHUN',\n",
              "  'tahun': 2018},\n",
              " {'id': 6,\n",
              "  'kode_provinsi': 32,\n",
              "  'nama_provinsi': 'JAWA BARAT',\n",
              "  'target_konsumsi_ikan': 30.34,\n",
              "  'realisasi_konsumsi_ikan': 30.53,\n",
              "  'satuan': 'KILOGRAM PER KAPITA PER TAHUN',\n",
              "  'tahun': 2019},\n",
              " {'id': 7,\n",
              "  'kode_provinsi': 32,\n",
              "  'nama_provinsi': 'JAWA BARAT',\n",
              "  'target_konsumsi_ikan': 28.0,\n",
              "  'realisasi_konsumsi_ikan': 37.01,\n",
              "  'satuan': 'KILOGRAM PER KAPITA PER TAHUN',\n",
              "  'tahun': 2020},\n",
              " {'id': 8,\n",
              "  'kode_provinsi': 32,\n",
              "  'nama_provinsi': 'JAWA BARAT',\n",
              "  'target_konsumsi_ikan': 28.31,\n",
              "  'realisasi_konsumsi_ikan': 37.71,\n",
              "  'satuan': 'KILOGRAM PER KAPITA PER TAHUN',\n",
              "  'tahun': 2021}]"
            ]
          },
          "execution_count": 11,
          "metadata": {},
          "output_type": "execute_result"
        }
      ],
      "source": [
        "# [UPDATE] See the data\n",
        "\n",
        "json['data']"
      ]
    },
    {
      "cell_type": "code",
      "execution_count": 12,
      "metadata": {
        "colab": {
          "base_uri": "https://localhost:8080/",
          "height": 300
        },
        "id": "3II0IWy4GigP",
        "outputId": "79b5e92d-a1bc-4c78-a039-0cc0408738ab"
      },
      "outputs": [
        {
          "data": {
            "text/html": [
              "\n",
              "  <div id=\"df-5bacc583-834c-456b-b0c7-35a29fea0a87\" class=\"colab-df-container\">\n",
              "    <div>\n",
              "<style scoped>\n",
              "    .dataframe tbody tr th:only-of-type {\n",
              "        vertical-align: middle;\n",
              "    }\n",
              "\n",
              "    .dataframe tbody tr th {\n",
              "        vertical-align: top;\n",
              "    }\n",
              "\n",
              "    .dataframe thead th {\n",
              "        text-align: right;\n",
              "    }\n",
              "</style>\n",
              "<table border=\"1\" class=\"dataframe\">\n",
              "  <thead>\n",
              "    <tr style=\"text-align: right;\">\n",
              "      <th></th>\n",
              "      <th>id</th>\n",
              "      <th>kode_provinsi</th>\n",
              "      <th>nama_provinsi</th>\n",
              "      <th>target_konsumsi_ikan</th>\n",
              "      <th>realisasi_konsumsi_ikan</th>\n",
              "      <th>satuan</th>\n",
              "      <th>tahun</th>\n",
              "    </tr>\n",
              "  </thead>\n",
              "  <tbody>\n",
              "    <tr>\n",
              "      <th>0</th>\n",
              "      <td>1</td>\n",
              "      <td>32</td>\n",
              "      <td>JAWA BARAT</td>\n",
              "      <td>23.89</td>\n",
              "      <td>24.57</td>\n",
              "      <td>KILOGRAM PER KAPITA PER TAHUN</td>\n",
              "      <td>2014</td>\n",
              "    </tr>\n",
              "    <tr>\n",
              "      <th>1</th>\n",
              "      <td>2</td>\n",
              "      <td>32</td>\n",
              "      <td>JAWA BARAT</td>\n",
              "      <td>25.41</td>\n",
              "      <td>25.88</td>\n",
              "      <td>KILOGRAM PER KAPITA PER TAHUN</td>\n",
              "      <td>2015</td>\n",
              "    </tr>\n",
              "    <tr>\n",
              "      <th>2</th>\n",
              "      <td>3</td>\n",
              "      <td>32</td>\n",
              "      <td>JAWA BARAT</td>\n",
              "      <td>27.35</td>\n",
              "      <td>27.70</td>\n",
              "      <td>KILOGRAM PER KAPITA PER TAHUN</td>\n",
              "      <td>2016</td>\n",
              "    </tr>\n",
              "    <tr>\n",
              "      <th>3</th>\n",
              "      <td>4</td>\n",
              "      <td>32</td>\n",
              "      <td>JAWA BARAT</td>\n",
              "      <td>28.53</td>\n",
              "      <td>28.60</td>\n",
              "      <td>KILOGRAM PER KAPITA PER TAHUN</td>\n",
              "      <td>2017</td>\n",
              "    </tr>\n",
              "    <tr>\n",
              "      <th>4</th>\n",
              "      <td>5</td>\n",
              "      <td>32</td>\n",
              "      <td>JAWA BARAT</td>\n",
              "      <td>29.46</td>\n",
              "      <td>29.64</td>\n",
              "      <td>KILOGRAM PER KAPITA PER TAHUN</td>\n",
              "      <td>2018</td>\n",
              "    </tr>\n",
              "    <tr>\n",
              "      <th>5</th>\n",
              "      <td>6</td>\n",
              "      <td>32</td>\n",
              "      <td>JAWA BARAT</td>\n",
              "      <td>30.34</td>\n",
              "      <td>30.53</td>\n",
              "      <td>KILOGRAM PER KAPITA PER TAHUN</td>\n",
              "      <td>2019</td>\n",
              "    </tr>\n",
              "    <tr>\n",
              "      <th>6</th>\n",
              "      <td>7</td>\n",
              "      <td>32</td>\n",
              "      <td>JAWA BARAT</td>\n",
              "      <td>28.00</td>\n",
              "      <td>37.01</td>\n",
              "      <td>KILOGRAM PER KAPITA PER TAHUN</td>\n",
              "      <td>2020</td>\n",
              "    </tr>\n",
              "    <tr>\n",
              "      <th>7</th>\n",
              "      <td>8</td>\n",
              "      <td>32</td>\n",
              "      <td>JAWA BARAT</td>\n",
              "      <td>28.31</td>\n",
              "      <td>37.71</td>\n",
              "      <td>KILOGRAM PER KAPITA PER TAHUN</td>\n",
              "      <td>2021</td>\n",
              "    </tr>\n",
              "  </tbody>\n",
              "</table>\n",
              "</div>\n",
              "    <div class=\"colab-df-buttons\">\n",
              "\n",
              "  <div class=\"colab-df-container\">\n",
              "    <button class=\"colab-df-convert\" onclick=\"convertToInteractive('df-5bacc583-834c-456b-b0c7-35a29fea0a87')\"\n",
              "            title=\"Convert this dataframe to an interactive table.\"\n",
              "            style=\"display:none;\">\n",
              "\n",
              "  <svg xmlns=\"http://www.w3.org/2000/svg\" height=\"24px\" viewBox=\"0 -960 960 960\">\n",
              "    <path d=\"M120-120v-720h720v720H120Zm60-500h600v-160H180v160Zm220 220h160v-160H400v160Zm0 220h160v-160H400v160ZM180-400h160v-160H180v160Zm440 0h160v-160H620v160ZM180-180h160v-160H180v160Zm440 0h160v-160H620v160Z\"/>\n",
              "  </svg>\n",
              "    </button>\n",
              "\n",
              "  <style>\n",
              "    .colab-df-container {\n",
              "      display:flex;\n",
              "      gap: 12px;\n",
              "    }\n",
              "\n",
              "    .colab-df-convert {\n",
              "      background-color: #E8F0FE;\n",
              "      border: none;\n",
              "      border-radius: 50%;\n",
              "      cursor: pointer;\n",
              "      display: none;\n",
              "      fill: #1967D2;\n",
              "      height: 32px;\n",
              "      padding: 0 0 0 0;\n",
              "      width: 32px;\n",
              "    }\n",
              "\n",
              "    .colab-df-convert:hover {\n",
              "      background-color: #E2EBFA;\n",
              "      box-shadow: 0px 1px 2px rgba(60, 64, 67, 0.3), 0px 1px 3px 1px rgba(60, 64, 67, 0.15);\n",
              "      fill: #174EA6;\n",
              "    }\n",
              "\n",
              "    .colab-df-buttons div {\n",
              "      margin-bottom: 4px;\n",
              "    }\n",
              "\n",
              "    [theme=dark] .colab-df-convert {\n",
              "      background-color: #3B4455;\n",
              "      fill: #D2E3FC;\n",
              "    }\n",
              "\n",
              "    [theme=dark] .colab-df-convert:hover {\n",
              "      background-color: #434B5C;\n",
              "      box-shadow: 0px 1px 3px 1px rgba(0, 0, 0, 0.15);\n",
              "      filter: drop-shadow(0px 1px 2px rgba(0, 0, 0, 0.3));\n",
              "      fill: #FFFFFF;\n",
              "    }\n",
              "  </style>\n",
              "\n",
              "    <script>\n",
              "      const buttonEl =\n",
              "        document.querySelector('#df-5bacc583-834c-456b-b0c7-35a29fea0a87 button.colab-df-convert');\n",
              "      buttonEl.style.display =\n",
              "        google.colab.kernel.accessAllowed ? 'block' : 'none';\n",
              "\n",
              "      async function convertToInteractive(key) {\n",
              "        const element = document.querySelector('#df-5bacc583-834c-456b-b0c7-35a29fea0a87');\n",
              "        const dataTable =\n",
              "          await google.colab.kernel.invokeFunction('convertToInteractive',\n",
              "                                                    [key], {});\n",
              "        if (!dataTable) return;\n",
              "\n",
              "        const docLinkHtml = 'Like what you see? Visit the ' +\n",
              "          '<a target=\"_blank\" href=https://colab.research.google.com/notebooks/data_table.ipynb>data table notebook</a>'\n",
              "          + ' to learn more about interactive tables.';\n",
              "        element.innerHTML = '';\n",
              "        dataTable['output_type'] = 'display_data';\n",
              "        await google.colab.output.renderOutput(dataTable, element);\n",
              "        const docLink = document.createElement('div');\n",
              "        docLink.innerHTML = docLinkHtml;\n",
              "        element.appendChild(docLink);\n",
              "      }\n",
              "    </script>\n",
              "  </div>\n",
              "\n",
              "\n",
              "<div id=\"df-49398e5c-7081-421a-91ea-18cfd10ebab3\">\n",
              "  <button class=\"colab-df-quickchart\" onclick=\"quickchart('df-49398e5c-7081-421a-91ea-18cfd10ebab3')\"\n",
              "            title=\"Suggest charts\"\n",
              "            style=\"display:none;\">\n",
              "\n",
              "<svg xmlns=\"http://www.w3.org/2000/svg\" height=\"24px\"viewBox=\"0 0 24 24\"\n",
              "     width=\"24px\">\n",
              "    <g>\n",
              "        <path d=\"M19 3H5c-1.1 0-2 .9-2 2v14c0 1.1.9 2 2 2h14c1.1 0 2-.9 2-2V5c0-1.1-.9-2-2-2zM9 17H7v-7h2v7zm4 0h-2V7h2v10zm4 0h-2v-4h2v4z\"/>\n",
              "    </g>\n",
              "</svg>\n",
              "  </button>\n",
              "\n",
              "<style>\n",
              "  .colab-df-quickchart {\n",
              "      --bg-color: #E8F0FE;\n",
              "      --fill-color: #1967D2;\n",
              "      --hover-bg-color: #E2EBFA;\n",
              "      --hover-fill-color: #174EA6;\n",
              "      --disabled-fill-color: #AAA;\n",
              "      --disabled-bg-color: #DDD;\n",
              "  }\n",
              "\n",
              "  [theme=dark] .colab-df-quickchart {\n",
              "      --bg-color: #3B4455;\n",
              "      --fill-color: #D2E3FC;\n",
              "      --hover-bg-color: #434B5C;\n",
              "      --hover-fill-color: #FFFFFF;\n",
              "      --disabled-bg-color: #3B4455;\n",
              "      --disabled-fill-color: #666;\n",
              "  }\n",
              "\n",
              "  .colab-df-quickchart {\n",
              "    background-color: var(--bg-color);\n",
              "    border: none;\n",
              "    border-radius: 50%;\n",
              "    cursor: pointer;\n",
              "    display: none;\n",
              "    fill: var(--fill-color);\n",
              "    height: 32px;\n",
              "    padding: 0;\n",
              "    width: 32px;\n",
              "  }\n",
              "\n",
              "  .colab-df-quickchart:hover {\n",
              "    background-color: var(--hover-bg-color);\n",
              "    box-shadow: 0 1px 2px rgba(60, 64, 67, 0.3), 0 1px 3px 1px rgba(60, 64, 67, 0.15);\n",
              "    fill: var(--button-hover-fill-color);\n",
              "  }\n",
              "\n",
              "  .colab-df-quickchart-complete:disabled,\n",
              "  .colab-df-quickchart-complete:disabled:hover {\n",
              "    background-color: var(--disabled-bg-color);\n",
              "    fill: var(--disabled-fill-color);\n",
              "    box-shadow: none;\n",
              "  }\n",
              "\n",
              "  .colab-df-spinner {\n",
              "    border: 2px solid var(--fill-color);\n",
              "    border-color: transparent;\n",
              "    border-bottom-color: var(--fill-color);\n",
              "    animation:\n",
              "      spin 1s steps(1) infinite;\n",
              "  }\n",
              "\n",
              "  @keyframes spin {\n",
              "    0% {\n",
              "      border-color: transparent;\n",
              "      border-bottom-color: var(--fill-color);\n",
              "      border-left-color: var(--fill-color);\n",
              "    }\n",
              "    20% {\n",
              "      border-color: transparent;\n",
              "      border-left-color: var(--fill-color);\n",
              "      border-top-color: var(--fill-color);\n",
              "    }\n",
              "    30% {\n",
              "      border-color: transparent;\n",
              "      border-left-color: var(--fill-color);\n",
              "      border-top-color: var(--fill-color);\n",
              "      border-right-color: var(--fill-color);\n",
              "    }\n",
              "    40% {\n",
              "      border-color: transparent;\n",
              "      border-right-color: var(--fill-color);\n",
              "      border-top-color: var(--fill-color);\n",
              "    }\n",
              "    60% {\n",
              "      border-color: transparent;\n",
              "      border-right-color: var(--fill-color);\n",
              "    }\n",
              "    80% {\n",
              "      border-color: transparent;\n",
              "      border-right-color: var(--fill-color);\n",
              "      border-bottom-color: var(--fill-color);\n",
              "    }\n",
              "    90% {\n",
              "      border-color: transparent;\n",
              "      border-bottom-color: var(--fill-color);\n",
              "    }\n",
              "  }\n",
              "</style>\n",
              "\n",
              "  <script>\n",
              "    async function quickchart(key) {\n",
              "      const quickchartButtonEl =\n",
              "        document.querySelector('#' + key + ' button');\n",
              "      quickchartButtonEl.disabled = true;  // To prevent multiple clicks.\n",
              "      quickchartButtonEl.classList.add('colab-df-spinner');\n",
              "      try {\n",
              "        const charts = await google.colab.kernel.invokeFunction(\n",
              "            'suggestCharts', [key], {});\n",
              "      } catch (error) {\n",
              "        console.error('Error during call to suggestCharts:', error);\n",
              "      }\n",
              "      quickchartButtonEl.classList.remove('colab-df-spinner');\n",
              "      quickchartButtonEl.classList.add('colab-df-quickchart-complete');\n",
              "    }\n",
              "    (() => {\n",
              "      let quickchartButtonEl =\n",
              "        document.querySelector('#df-49398e5c-7081-421a-91ea-18cfd10ebab3 button');\n",
              "      quickchartButtonEl.style.display =\n",
              "        google.colab.kernel.accessAllowed ? 'block' : 'none';\n",
              "    })();\n",
              "  </script>\n",
              "</div>\n",
              "    </div>\n",
              "  </div>\n"
            ],
            "text/plain": [
              "   id  kode_provinsi nama_provinsi  target_konsumsi_ikan  \\\n",
              "0   1             32    JAWA BARAT                 23.89   \n",
              "1   2             32    JAWA BARAT                 25.41   \n",
              "2   3             32    JAWA BARAT                 27.35   \n",
              "3   4             32    JAWA BARAT                 28.53   \n",
              "4   5             32    JAWA BARAT                 29.46   \n",
              "5   6             32    JAWA BARAT                 30.34   \n",
              "6   7             32    JAWA BARAT                 28.00   \n",
              "7   8             32    JAWA BARAT                 28.31   \n",
              "\n",
              "   realisasi_konsumsi_ikan                         satuan  tahun  \n",
              "0                    24.57  KILOGRAM PER KAPITA PER TAHUN   2014  \n",
              "1                    25.88  KILOGRAM PER KAPITA PER TAHUN   2015  \n",
              "2                    27.70  KILOGRAM PER KAPITA PER TAHUN   2016  \n",
              "3                    28.60  KILOGRAM PER KAPITA PER TAHUN   2017  \n",
              "4                    29.64  KILOGRAM PER KAPITA PER TAHUN   2018  \n",
              "5                    30.53  KILOGRAM PER KAPITA PER TAHUN   2019  \n",
              "6                    37.01  KILOGRAM PER KAPITA PER TAHUN   2020  \n",
              "7                    37.71  KILOGRAM PER KAPITA PER TAHUN   2021  "
            ]
          },
          "execution_count": 12,
          "metadata": {},
          "output_type": "execute_result"
        }
      ],
      "source": [
        "data = pd.json_normalize(json['data'])\n",
        "data"
      ]
    },
    {
      "cell_type": "markdown",
      "metadata": {
        "id": "rF5T80AJ3GCj"
      },
      "source": [
        "# FastAPI\n",
        "\n",
        "We've already known how to access or fetch an API using `requests` library. However, how to create an API by ourself?\n",
        "\n",
        "Fortunately, Python has a library for building API which is `FastAPI`."
      ]
    },
    {
      "cell_type": "markdown",
      "metadata": {
        "id": "f2Zh1hTMbHUI"
      },
      "source": [
        "## SETUP"
      ]
    },
    {
      "cell_type": "markdown",
      "metadata": {
        "id": "oeq0o_20XZEJ"
      },
      "source": [
        "In order to practice making an API, you will use Visual Studio Code and create a Python script file (.py). After that, you will run it locally.\n",
        "\n",
        "But, before we further do, let's install the FastAPI and Uvicorn using this command:\n",
        "```\n",
        "pip install fastapi uvicorn[standard]\n",
        "```\n",
        "\n",
        "FastAPI is a library that we use for making the APIs and Uvicorn will be our API server."
      ]
    },
    {
      "cell_type": "markdown",
      "metadata": {
        "id": "G1B8nPnmb4-x"
      },
      "source": [
        "## Create Our First API\n",
        "\n",
        "```python\n",
        "from fastapi import FastAPI\n",
        "\n",
        "app = FastAPI()\n",
        "\n",
        "@app.get(\"/\")\n",
        "def root():\n",
        "    return {\"message\": \"Hello World\"}\n",
        "\n",
        "```\n",
        "\n",
        "**Explaination**:\n",
        "\n",
        "1. `from fastapi import FastAPI`: This line imports the `FastAPI` class from the `fastapi` module. `FastAPI` is the main class that allows us to create and define our API routes.\n",
        "\n",
        "2. `app = FastAPI()`: This line creates an instance of the `FastAPI` class and assigns it to the variable `app`. This `app` object will be used to define our API's routes and their corresponding functions.\n",
        "\n",
        "3. `@app.get(\"/\")`: This is a decorator provided by FastAPI, used to define a route for handling GET requests. In this case, the route is specified as \"/\". The function immediately below this decorator (`root()`) will be executed when the server receives a GET request to the root URL (\"/\").\n",
        "\n",
        "4. `def root():`: This is the Python function that handles the GET request to the root URL. When a GET request is made to the root URL (\"/\"), this function is executed.\n",
        "\n",
        "5. `return {\"message\": \"Hello World\"}`: This line returns a Python dictionary as the response to the GET request. The dictionary contains a single key-value pair, where the key is \"message,\" and the value is \"Hello World.\""
      ]
    },
    {
      "cell_type": "markdown",
      "metadata": {
        "id": "eXnG211AvPpE"
      },
      "source": [
        "\n",
        "\n",
        "To running the script :\n",
        "\n",
        "```\n",
        "uvicorn <filename-without-the-extension>:<fast-api-instance> --reload\n",
        "```\n",
        "\n",
        "For example if your filename is `main.py` and the instance of `FastAPI()` is called `app`, then the script will be :\n",
        "```\n",
        "uvicorn main:app --reload\n",
        "```\n",
        "\n",
        "or\n",
        "```\n",
        "python -m uvicorn main:app --reload\n",
        "```"
      ]
    },
    {
      "cell_type": "markdown",
      "metadata": {
        "id": "Vds7PBioEYa-"
      },
      "source": [
        "### **Explore the Swagger UI**\n",
        "\n",
        "You may need to access the 'docs' via http://localhost:8000/docs\n",
        "\n",
        "If you already enter the Swagger UI, you can easily interact with your API without any code."
      ]
    },
    {
      "cell_type": "markdown",
      "metadata": {
        "id": "Znx5aSnDd2hv"
      },
      "source": [
        "## Defining Endpoints\n",
        "\n",
        "You may use the Swagger UI or using Python to test your API"
      ]
    },
    {
      "cell_type": "markdown",
      "metadata": {
        "id": "lNGSW9VapiK9"
      },
      "source": [
        "### GET\n",
        "\n",
        "Here's our app.py to practice creating an API for `GET` function only:\n",
        "\n",
        "```python\n",
        "from fastapi import FastAPI\n",
        "\n",
        "app = FastAPI()\n",
        "\n",
        "@app.get(\"/\")\n",
        "def root():\n",
        "  return \"This is the main endpoint of this API\"\n",
        "\n",
        "@app.get(\"/names/{name}\")\n",
        "def read_name(name):\n",
        "  return {\"name\":name,\"message\":f\"Hello, my name is {name}\"}\n",
        "\n",
        "@app.get(\"/items/{id}\")\n",
        "def read_items(id):\n",
        "  return {\"id\":id}\n",
        "```\n",
        "\n",
        "To run, you can run the url, `https://localhost:8000/` or `https://localhost:8000/your_name` or `https://localhost:8000/id` on your browser."
      ]
    },
    {
      "cell_type": "markdown",
      "metadata": {
        "id": "CbWkTTaGplNL"
      },
      "source": [
        "### PUT\n",
        "\n",
        "Here's our app.py for updating existing data:\n",
        "\n",
        "```python\n",
        "from fastapi import FastAPI\n",
        "\n",
        "app = FastAPI()\n",
        "\n",
        "df = {\n",
        "    1: {\"name\": \"Hana\", \"age\": 10},\n",
        "    2: {\"name\": \"Rifdah\", \"age\": 18}\n",
        "}\n",
        "\n",
        "@app.get('/data')\n",
        "def read_data():\n",
        "    return df\n",
        "\n",
        "@app.put(\"/items/{item_id}\")\n",
        "def update_item(item_id: int, update_data: dict):\n",
        "\n",
        "    # Perform the update using the data from the request body\n",
        "    df[item_id].update(update_data)\n",
        "\n",
        "    return {\"message\": f\"Item with ID {item_id} has been updated successfully.\"}\n",
        "```\n",
        "\n",
        "Remember that, the way yout update data, it depends of the data type that stored the data. It's different if we using list or dictionary.\n",
        "\n",
        "To test our API, we can fetch the data using local notebook.\n",
        "\n",
        "Codes to be running on your local notebook:\n",
        "\n",
        "```\n",
        "import requests\n",
        "\n",
        "url = \"http://localhost:8000/items/1\"\n",
        "\n",
        "response = requests.put(url, json={\"name\":\"Fahmi\", \"age\":13})\n",
        "print(response.status_code)\n",
        "print(response.json())\n",
        "```\n",
        "\n",
        "or just access the Swagger UI."
      ]
    },
    {
      "cell_type": "markdown",
      "metadata": {
        "id": "KGIjHkcEpnLL"
      },
      "source": [
        "### POST\n",
        "\n",
        "Here's our app.py for posting a new data:\n",
        "\n",
        "```python\n",
        "from fastapi import FastAPI\n",
        "\n",
        "app = FastAPI()\n",
        "\n",
        "data = []\n",
        "\n",
        "@app.get('/')\n",
        "def cart():\n",
        "    if len(data)==0:\n",
        "        return \"There are no items in your cart\"\n",
        "    else:\n",
        "        return data\n",
        "\n",
        "@app.post('/input_data/')\n",
        "def add_cart(added_item:dict):\n",
        "    id = len(data) + 1\n",
        "    added_item['id'] = id\n",
        "    data.append(added_item)\n",
        "    return added_item\n",
        "```\n",
        "\n",
        "Codes to be running on your local notebook:\n",
        "\n",
        "```python\n",
        "import requests\n",
        "\n",
        "url = \"http://localhost:8000/input_data/\"\n",
        "\n",
        "response = requests.post(url, json={\"id\":1, \"name\":\"Apple\", \"price\":5000})\n",
        "print(response.status_code)\n",
        "print(response.json())\n",
        "\n",
        "```\n",
        "or just access the Swagger UI."
      ]
    },
    {
      "cell_type": "markdown",
      "metadata": {
        "id": "4Yv6bjjipvXX"
      },
      "source": [
        "### DELETE\n",
        "\n",
        "Here's our app.py to detele a row in a data:\n",
        "```python\n",
        "from fastapi import FastAPI\n",
        "\n",
        "app = FastAPI()\n",
        "\n",
        "df = {\n",
        "    1: {\"name\": \"Hana\", \"age\": 10},\n",
        "    2: {\"name\": \"Rifdah\", \"age\": 18},\n",
        "    3: {\"name\": \"Sakinah\", \"age\": 27}\n",
        "}\n",
        "\n",
        "@app.get('/data')\n",
        "def read_data():\n",
        "    return df\n",
        "\n",
        "@app.delete(\"/items/{item_id}\")\n",
        "def delete_item(item_id: int):\n",
        "    df.pop(item_id)\n",
        "    return {\"message\": f\"Item with ID {item_id} has been deleted successfully.\"}\n",
        "```\n",
        "\n",
        "Code to test the endpoint:\n",
        "\n",
        "```python\n",
        "import requests\n",
        "url = \"http://localhost:8000/items/2\"\n",
        "\n",
        "response = requests.delete(url)\n",
        "print(response.status_code)\n",
        "print(response.json())\n",
        "\n",
        "```\n",
        "\n",
        "or just access the Swagger UI."
      ]
    },
    {
      "cell_type": "markdown",
      "metadata": {
        "id": "xAMYrUWQd-u9"
      },
      "source": [
        "## Error Handling\n",
        "\n",
        "Error handling is a crucial aspect of any web application, including APIs built with FastAPI. FastAPI provides robust error handling mechanisms to help developers manage errors, exceptions, and unexpected situations that may occur during the processing of incoming requests. Proper error handling ensures that the API provides meaningful and consistent responses to clients when errors occur."
      ]
    },
    {
      "cell_type": "markdown",
      "metadata": {
        "id": "1lAtr6Gfox2N"
      },
      "source": [
        "Now, let we take an error from this simple endpoint:\n",
        "\n",
        "```python\n",
        "from fastapi import FastAPI\n",
        "\n",
        "app = FastAPI()\n",
        "\n",
        "@app.get(\"/items/{id}\")\n",
        "def route(id: int):\n",
        "    return {\"item_id\": id}\n",
        "```\n",
        "We created an endpoint to handle `GET` requests by calling the `/items/id`. However, we expecting that the `id` to be an integer.\n",
        "\n",
        "If we input the id by using another data type, like this:\n",
        "```\n",
        "https://localhost:8000/items/two\n",
        "```\n",
        "\n",
        "You will get an error like this:\n",
        "\n",
        "```json\n",
        "{\"detail\":[{\"type\":\"int_parsing\",\n",
        "            \"loc\":[\"path\",\"id\"],\n",
        "            \"msg\":\"Input should be a valid integer, unable to parse string as an integer\",\n",
        "            \"input\":\"two\",\n",
        "            \"url\":\"https://errors.pydantic.dev/2.0.3/v/int_parsing\"\n",
        "            }]\n",
        "      }\n",
        "```"
      ]
    },
    {
      "cell_type": "markdown",
      "metadata": {
        "id": "sFfLY3MBOICN"
      },
      "source": [
        "Another example. Our code below only provides two rows of data. Our next step is that we want to edit the existing data.\n",
        "\n",
        "```python\n",
        "from fastapi import FastAPI\n",
        "\n",
        "app = FastAPI()\n",
        "\n",
        "df = {\n",
        "    1: {\"name\": \"Hana\", \"age\": 10},\n",
        "    2: {\"name\": \"Rifdah\", \"age\": 18}\n",
        "}\n",
        "\n",
        "@app.get('/data')\n",
        "def read_data():\n",
        "    return df\n",
        "\n",
        "@app.put(\"/items/{item_id}\")\n",
        "def update_item(item_id: int, update_data: dict):\n",
        "    df[item_id].update(update_data)\n",
        "    return {\"message\": f\"Item with ID {item_id} has been updated successfully.\"}\n",
        "```\n",
        "\n",
        "However we set the item_id exceeding the number of rows consciously:\n",
        "\n",
        "```python\n",
        "import requests\n",
        "url = \"http://localhost:8000/items/5\"\n",
        "\n",
        "response = requests.delete(url)\n",
        "print(response.status_code)\n",
        "print(response.json())\n",
        "```\n",
        "\n",
        "What the error that you received?"
      ]
    },
    {
      "cell_type": "markdown",
      "metadata": {
        "id": "z2pgt5V_10oe"
      },
      "source": [
        "---\n",
        "> **[UPDATE]**\n",
        "\n",
        "```\n",
        "import requests\n",
        "url = \"http://localhost:8000/items/5\"\n",
        "\n",
        "response = requests.put(url)\n",
        "print(response.status_code)\n",
        "print(response.json())\n",
        "```"
      ]
    },
    {
      "cell_type": "markdown",
      "metadata": {
        "id": "oyt1NFmYkQ8V"
      },
      "source": [
        "### Raising HTTPException\n",
        "\n",
        "To handle those errors, we can raise the error using `HTTPException`. Handling errors using `HTTPException` is a common and effective approach in FastAPI. `HTTPException` allows you to raise and handle HTTP-related exceptions with specific status codes and error messages. It simplifies the process of returning meaningful and consistent error responses to clients when errors or exceptional situations occur during request processing.\n",
        "\n",
        "Here's the format of raising the error by response status code:\n",
        "\n",
        "```\n",
        "if condition:\n",
        "  raise HTTPException(status_code=<status>, detail=\"message\")\n",
        "```\n",
        "\n",
        "Example:\n",
        "\n",
        "```python\n",
        "from fastapi import FastAPI, HTTPException\n",
        "\n",
        "app = FastAPI()\n",
        "\n",
        "df = {\n",
        "    1: {\"name\": \"Hana\", \"age\": 10},\n",
        "    2: {\"name\": \"Rifdah\", \"age\": 18}\n",
        "}\n",
        "\n",
        "@app.get('/data')\n",
        "def read_data():\n",
        "    return df\n",
        "\n",
        "@app.put(\"/items/{item_id}\")\n",
        "def update_item(item_id: int, update_data: dict):\n",
        "    if item_id not in df.keys():\n",
        "      raise HTTPException(status_code=404, detail=f\"Item with ID {item_id} not found\")\n",
        "    df[item_id].update(update_data)\n",
        "    return {\"message\": f\"Item with ID {item_id} has been updated successfully.\"}\n",
        "\n",
        "```\n",
        "\n",
        "From the `raise HTTPException` above, when we meet the 404 not-found  error, the API will give message that `Item with ID xx not found`."
      ]
    },
    {
      "cell_type": "markdown",
      "metadata": {
        "id": "tBHYuLxG26cy"
      },
      "source": [
        "---\n",
        "\n",
        "## Use Case - Solve a Problem\n",
        "\n",
        "You are a developer working for a startup called \"Toko H8\" that specializes in online shopping. The company wants to build a simple shopping cart API to manage the items added to the users' shopping carts. They have provided you with some initial requirements and data for the API. Your task is to use FastAPI to create the API that allows users to view, add, edit, and delete items in their shopping carts.\n",
        "\n",
        "\n",
        "\n",
        "```python\n",
        "from fastapi import FastAPI, HTTPException\n",
        "\n",
        "app = FastAPI()\n",
        "\n",
        "data = {\"name\":\"shopping cart\",\n",
        "        \"columns\":[\"prod_name\",\"price\",\"num_items\"],\n",
        "        \"items\":{}}\n",
        "\n",
        "@app.get(\"/\")\n",
        "def root():\n",
        "    return {\"message\":\"Welcome to Toko H8 Shopping Cart! There are some features that you can explore\",\n",
        "            \"menu\":{1:\"See shopping cart (/cart)\",\n",
        "                    2:\"Add item (/add) - You may need request\",\n",
        "                    3:\"Edit shopping cart (/edit/id)\",\n",
        "                    4:\"Delete item from shopping cart (/del/id)\"}}\n",
        "\n",
        "@app.get(\"/cart\")\n",
        "def show():\n",
        "    return data\n",
        "\n",
        "@app.post(\"/add\")\n",
        "def add_item(added_item:dict):\n",
        "    id = len(data[\"items\"].keys())+1\n",
        "    data[\"items\"][id] = added_item\n",
        "    return f\"Item successfully added into your cart with ID {id}\"\n",
        "\n",
        "@app.put(\"/edit/{id}\")\n",
        "def update_cart(id:int,updated_cart:dict):\n",
        "    if id not in data['items'].keys():\n",
        "        raise HTTPException(status_code=404, detail=f\"Item with ID {id} not found\")\n",
        "    else:\n",
        "        data[\"items\"][id].update(updated_cart)\n",
        "        return {\"message\": f\"Item with ID {id} has been updated successfully.\"}\n",
        "\n",
        "@app.delete(\"/del/{id}\")\n",
        "def remove_row(id:int):\n",
        "    if id not in data['items'].keys():\n",
        "        raise HTTPException(status_code=404, detail=f\"Item with ID {id} not found\")\n",
        "    else:\n",
        "        data[\"items\"].pop(id)\n",
        "        return {\"message\": f\"Item with ID {id} has been deleted successfully.\"}\n",
        "\n",
        "```"
      ]
    }
  ],
  "metadata": {
    "colab": {
      "provenance": [],
      "toc_visible": true
    },
    "kernelspec": {
      "display_name": "Python 3",
      "name": "python3"
    },
    "language_info": {
      "codemirror_mode": {
        "name": "ipython",
        "version": 3
      },
      "file_extension": ".py",
      "mimetype": "text/x-python",
      "name": "python",
      "nbconvert_exporter": "python",
      "pygments_lexer": "ipython3",
      "version": "3.11.4"
    }
  },
  "nbformat": 4,
  "nbformat_minor": 0
}
